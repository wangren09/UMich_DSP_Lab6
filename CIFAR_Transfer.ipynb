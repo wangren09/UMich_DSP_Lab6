{
  "cells": [
    {
      "cell_type": "code",
      "execution_count": null,
      "metadata": {
        "id": "bhPd5D-6UjaB"
      },
      "outputs": [],
      "source": [
        "import tensorflow as tf\n",
        "from tensorflow.keras import datasets, layers, models\n",
        "import numpy as np\n",
        "import matplotlib.pyplot as plt"
      ]
    },
    {
      "cell_type": "markdown",
      "metadata": {
        "id": "5MA7bBvqUjaL"
      },
      "source": [
        "**Load the saved model**"
      ]
    },
    {
      "cell_type": "code",
      "execution_count": null,
      "metadata": {
        "id": "LosULlsEUjaM"
      },
      "outputs": [],
      "source": [
        "#load the model\n",
        "model = tf.keras.models.load_model(\"CNN_D0_D4.h5\")"
      ]
    },
    {
      "cell_type": "markdown",
      "metadata": {
        "id": "1KDKCx64UjaM"
      },
      "source": [
        "**Freeze convolutional layers and add new fc layers**"
      ]
    },
    {
      "cell_type": "code",
      "execution_count": null,
      "metadata": {
        "id": "hm8nh8B-UjaN"
      },
      "outputs": [],
      "source": [
        "new_model = models.Sequential()\n",
        "for layer in model.layers[0:-2]:\n",
        "    new_model.add(layer)\n",
        "    \n",
        "for layer in new_model.layers:\n",
        "    layer.trainable = False\n",
        "\n",
        "\n",
        "new_model.add(layers.Dense(64, activation='relu'))\n",
        "new_model.add(layers.Dense(10))\n",
        "\n",
        "new_model.summary()"
      ]
    }
  ],
  "metadata": {
    "kernelspec": {
      "display_name": "Python 3",
      "language": "python",
      "name": "python3"
    },
    "language_info": {
      "codemirror_mode": {
        "name": "ipython",
        "version": 3
      },
      "file_extension": ".py",
      "mimetype": "text/x-python",
      "name": "python",
      "nbconvert_exporter": "python",
      "pygments_lexer": "ipython3",
      "version": "3.7.6"
    },
    "colab": {
      "name": "CIFAR_Transfer.ipynb",
      "provenance": []
    }
  },
  "nbformat": 4,
  "nbformat_minor": 0
}