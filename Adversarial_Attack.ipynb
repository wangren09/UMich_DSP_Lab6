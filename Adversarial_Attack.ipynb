{
 "cells": [
  {
   "cell_type": "code",
   "execution_count": null,
   "metadata": {},
   "outputs": [],
   "source": [
    "import tensorflow as tf\n",
    "#from tensorflow.keras import datasets, layers, models\n",
    "import numpy as np\n",
    "import matplotlib.pyplot as plt\n",
    "import pickle"
   ]
  },
  {
   "cell_type": "markdown",
   "metadata": {},
   "source": [
    "**Load model and data**"
   ]
  },
  {
   "cell_type": "code",
   "execution_count": null,
   "metadata": {},
   "outputs": [],
   "source": [
    "model = tf.keras.models.load_model(\"CNN_D0_D4.h5\")\n",
    "model.trainable = False\n",
    "\n",
    "with open('cifar_img.pkl', 'rb') as file:\n",
    "    img = pickle.load(file)\n",
    "with open('cifar_lab.pkl', 'rb') as file:\n",
    "    lab = pickle.load(file)"
   ]
  },
  {
   "cell_type": "markdown",
   "metadata": {},
   "source": [
    "**Function of generating adversarial examples**"
   ]
  },
  {
   "cell_type": "code",
   "execution_count": null,
   "metadata": {},
   "outputs": [],
   "source": [
    "loss_object = tf.keras.losses.CategoricalCrossentropy(from_logits=True)\n",
    "\n",
    "def create_adv(input_image, input_label):\n",
    "    with tf.GradientTape() as tape:\n",
    "        tape.watch(input_image)\n",
    "        prediction = model(input_image)\n",
    "        loss = loss_object(input_label, prediction)\n",
    "\n",
    "    \n",
    "    # Get the gradients of the loss w.r.t to the input image.\n",
    "    gradient = tape.gradient(loss, input_image)\n",
    "    # Get the sign of the gradients to create the perturbation\n",
    "    signed_grad = tf.sign(gradient)\n",
    "    return signed_grad"
   ]
  },
  {
   "cell_type": "markdown",
   "metadata": {},
   "source": [
    "**Generate adversarial perturbations**"
   ]
  },
  {
   "cell_type": "code",
   "execution_count": null,
   "metadata": {},
   "outputs": [],
   "source": [
    "label = tf.one_hot(lab.reshape(100), 5)\n",
    "\n",
    "perturbations = create_adv(tf.convert_to_tensor(img, dtype=float), label)\n",
    "plt.imshow(perturbations[0] * 0.5 + 0.5);  # To change [-1, 1] to [0,1]"
   ]
  },
  {
   "cell_type": "markdown",
   "metadata": {},
   "source": [
    "**Report test accuracy**"
   ]
  },
  {
   "cell_type": "code",
   "execution_count": null,
   "metadata": {
    "scrolled": true
   },
   "outputs": [],
   "source": [
    "epsilons = [0.015, 0.031]\n",
    "\n",
    "plt.figure()\n",
    "for i, eps in enumerate(epsilons):\n",
    "    adv_x = img + eps*perturbations\n",
    "    adv_x = tf.clip_by_value(adv_x, 0, 1)\n",
    "    plt.subplot(2,2,2*i+1)\n",
    "    plt.imshow(img[3])\n",
    "    prediction_true = model(img)\n",
    "    prediction = model(adv_x)\n",
    "    prediction_clean_result = np.mean(lab.reshape(100) == np.argmax(prediction_true, axis=1))\n",
    "    prediction_adv_result = np.mean(lab.reshape(100) == np.argmax(prediction, axis=1))\n",
    "    plt.subplot(2,2,2*i+2)\n",
    "    plt.imshow(adv_x[3])\n",
    "    print(prediction_clean_result)\n",
    "    print(prediction_adv_result)"
   ]
  },
  {
   "cell_type": "code",
   "execution_count": null,
   "metadata": {},
   "outputs": [],
   "source": []
  }
 ],
 "metadata": {
  "kernelspec": {
   "display_name": "Python 3",
   "language": "python",
   "name": "python3"
  },
  "language_info": {
   "codemirror_mode": {
    "name": "ipython",
    "version": 3
   },
   "file_extension": ".py",
   "mimetype": "text/x-python",
   "name": "python",
   "nbconvert_exporter": "python",
   "pygments_lexer": "ipython3",
   "version": "3.7.6"
  }
 },
 "nbformat": 4,
 "nbformat_minor": 4
}
