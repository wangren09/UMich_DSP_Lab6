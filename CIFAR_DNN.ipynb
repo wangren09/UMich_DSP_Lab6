{
  "cells": [
    {
      "cell_type": "code",
      "execution_count": null,
      "metadata": {
        "id": "J6WGK-ld8kIz"
      },
      "outputs": [],
      "source": [
        "import tensorflow as tf\n",
        "from tensorflow.keras import datasets, layers, models\n",
        "import numpy as np\n",
        "import matplotlib.pyplot as plt"
      ]
    },
    {
      "cell_type": "markdown",
      "source": [
        "Load CIFAR-10 dataset and scale all the images to [0,1]"
      ],
      "metadata": {
        "id": "GrciN3jH9U5X"
      }
    },
    {
      "cell_type": "code",
      "execution_count": null,
      "metadata": {
        "id": "k3yG6xhr8kI3"
      },
      "outputs": [],
      "source": [
        "(train_images, train_labels), (test_images, test_labels) = datasets.cifar10.load_data()\n",
        "\n",
        "train_images, test_images = train_images / 255.0, test_images / 255.0\n",
        "\n",
        "train_images= train_images.reshape(train_images.shape[0], 32, 32, 3)\n",
        "test_images= test_images.reshape(test_images.shape[0], 32, 32, 3)\n",
        "\n",
        "print(train_images.shape)\n",
        "print(test_images.shape)"
      ]
    },
    {
      "cell_type": "markdown",
      "source": [
        "Separate CIFAR-10 data to two CIFAR-5 datasets"
      ],
      "metadata": {
        "id": "uXx7egVU___p"
      }
    },
    {
      "cell_type": "code",
      "execution_count": null,
      "metadata": {
        "id": "0Rj9NfKa8kI4"
      },
      "outputs": [],
      "source": [
        "index2,_ = np.where(train_labels>4)\n",
        "index1,_ = np.where(train_labels<5)\n",
        "\n",
        "index_t2,_ = np.where(test_labels>4)\n",
        "index_t1,_ = np.where(test_labels<5)\n",
        "\n",
        "train_images1 = train_images[index1]\n",
        "train_images2 = train_images[index2]\n",
        "test_images1 = test_images[index_t1]\n",
        "test_images2 = test_images[index_t2]\n",
        "\n",
        "train_labels1 = train_labels[index1]\n",
        "train_labels2 = train_labels[index2]\n",
        "test_labels1 = test_labels[index_t1]\n",
        "test_labels2 = test_labels[index_t2]"
      ]
    },
    {
      "cell_type": "markdown",
      "source": [
        "Print out the sampled images"
      ],
      "metadata": {
        "id": "EH57r6Cm_675"
      }
    },
    {
      "cell_type": "code",
      "execution_count": null,
      "metadata": {
        "id": "kmP0FkDZ8kI5"
      },
      "outputs": [],
      "source": [
        "plt.figure(figsize=(10,10))\n",
        "for i in range(25):\n",
        "    plt.subplot(5,5,i+1)\n",
        "    plt.xticks([])\n",
        "    plt.yticks([])\n",
        "    plt.grid(False)\n",
        "    plt.imshow(train_images1[i])\n",
        "    plt.xlabel(train_labels1[i][0])\n",
        "plt.show()"
      ]
    },
    {
      "cell_type": "markdown",
      "source": [
        "Build the deep architecture"
      ],
      "metadata": {
        "id": "xsWZm_AjAMfK"
      }
    },
    {
      "cell_type": "code",
      "execution_count": null,
      "metadata": {
        "id": "Je4lpPmA8kI6"
      },
      "outputs": [],
      "source": [
        "model = models.Sequential()\n",
        "model.add(layers.Flatten(input_shape=(32,32,3)))\n",
        "model.add(layers.Dense(95, activation='relu'))\n",
        "model.add(layers.Dense(5))\n",
        "\n",
        "model.summary()"
      ]
    },
    {
      "cell_type": "markdown",
      "source": [
        "Design the optimizer and then train the model"
      ],
      "metadata": {
        "id": "94Zvf4gJCVMS"
      }
    },
    {
      "cell_type": "code",
      "execution_count": null,
      "metadata": {
        "id": "RXA0j8T88kI6"
      },
      "outputs": [],
      "source": [
        "opt = tf.keras.optimizers.Adam(learning_rate=0.001)\n",
        "model.compile(optimizer=opt,\n",
        "              loss=tf.keras.losses.SparseCategoricalCrossentropy(from_logits=True),\n",
        "              metrics=['accuracy'])\n",
        "history = model.fit(train_images1, train_labels1, batch_size=64, epochs=10, validation_data=(test_images1, test_labels1))"
      ]
    },
    {
      "cell_type": "code",
      "execution_count": null,
      "metadata": {
        "id": "reHtbg_B8kI8"
      },
      "outputs": [],
      "source": [
        ""
      ]
    }
  ],
  "metadata": {
    "kernelspec": {
      "display_name": "Python 3",
      "language": "python",
      "name": "python3"
    },
    "language_info": {
      "codemirror_mode": {
        "name": "ipython",
        "version": 3
      },
      "file_extension": ".py",
      "mimetype": "text/x-python",
      "name": "python",
      "nbconvert_exporter": "python",
      "pygments_lexer": "ipython3",
      "version": "3.7.6"
    },
    "colab": {
      "name": "CIFAR_DNN.ipynb",
      "provenance": []
    }
  },
  "nbformat": 4,
  "nbformat_minor": 0
}